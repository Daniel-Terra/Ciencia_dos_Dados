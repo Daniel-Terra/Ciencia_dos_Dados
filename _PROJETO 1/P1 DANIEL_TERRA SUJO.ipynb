{
 "cells": [
  {
   "cell_type": "markdown",
   "metadata": {},
   "source": [
    "# Projeto 1 - Ciência dos Dados"
   ]
  },
  {
   "cell_type": "markdown",
   "metadata": {},
   "source": [
    "**DANIEL GURGEL TERRA**"
   ]
  },
  {
   "cell_type": "markdown",
   "metadata": {},
   "source": [
    "## Pergunta (s) a ser respondida"
   ]
  },
  {
   "cell_type": "markdown",
   "metadata": {},
   "source": [
    "Q1 : 'A ingressão dos países atualmente membros no grupo IEA (International Energy Agency) conseguiu contribuir com a diminuição das emissões de carbono?'"
   ]
  },
  {
   "cell_type": "markdown",
   "metadata": {},
   "source": [
    "## Explicação da hipótese e mecanismo"
   ]
  },
  {
   "cell_type": "markdown",
   "metadata": {},
   "source": [
    "A IEA tem como objetivo promover o desenvolvimento de energias renováveis, focando na redução das emissões de carbono causadas por energias não-renováveis tais como carbono e petróleo. Dessa forma é bem provável que países que ingressaram neste grupo tenham eventualmente e gradativamente reduzido suas emissões poluentes contribuindo para frear um aquecimento global.\n",
    "\n",
    ">https://www.ipcc.ch/about/ >> Objetivos do IPCC\n",
    "\n",
    ">https://www.iea.org/about/ >> Objetivos do IEA\n",
    "\n",
    ">https://www.ipcc.ch/site/assets/uploads/2018/02/ipcc_wg3_ar5_full.pdf >> Gráficos; emissões de carbono (IPCC)\n",
    "\n",
    ">https://www.epa.gov/ghgemissions/global-greenhouse-gas-emissions-data >> Gráficos; emissões de carbono (EPA)"
   ]
  },
  {
   "cell_type": "markdown",
   "metadata": {},
   "source": [
    "## Bases de dados usadas"
   ]
  },
  {
   "cell_type": "markdown",
   "metadata": {},
   "source": [
    "*EMISSÕES DE CARBONO [KiloTonelada]*\n",
    ">https://data.worldbank.org/indicator/EN.ATM.CO2E.KT?contextual=default&end=2014&name_desc=false&start=1960&view=chart&year=1960"
   ]
  },
  {
   "cell_type": "markdown",
   "metadata": {},
   "source": [
    "## Análise de dados"
   ]
  },
  {
   "cell_type": "markdown",
   "metadata": {},
   "source": [
    "Insira abaixo uma análise de dados tratada para ter maior clareza. \n",
    "\n",
    "Lembre-se de que, além deste arquivo principal, você precisa entregar um ou mais *notebooks* mais brutos com todas as tentativas que fez e que não deram certo .\n",
    "\n",
    "**Não inclua dados ou gráficos sem motivação nem interpretação** - sempre que fizer uma análise, plot ou tablea, diga qual sua intenção. Logo após a apresentação diga qual conclusão específica ou interpretação você tira daquela análise"
   ]
  },
  {
   "cell_type": "markdown",
   "metadata": {},
   "source": [
    "## ARRUMANDO OS DADOS!"
   ]
  },
  {
   "cell_type": "code",
   "execution_count": 186,
   "metadata": {},
   "outputs": [],
   "source": [
    "%matplotlib inline\n",
    "import matplotlib.pyplot as plt\n",
    "import pandas as pd\n",
    "import numpy as np\n",
    "import os"
   ]
  },
  {
   "cell_type": "markdown",
   "metadata": {},
   "source": [
    "**ENERGIAS RENOVÁVEIS POR ANO**"
   ]
  },
  {
   "cell_type": "code",
   "execution_count": 187,
   "metadata": {},
   "outputs": [
    {
     "data": {
      "image/png": "[encoded data removed]",
      "text/plain": [
       "<Figure size 432x288 with 1 Axes>"
      ]
     },
     "metadata": {
      "needs_background": "light"
     },
     "output_type": "display_data"
    }
   ],
   "source": [
    "BIOENERGY  = [66929,73336,77867,84702,90625,96554,104788,109994,115731]\n",
    "GEOTHERMAL = [9998,10088,10482,10731,11209,11856,12,12281,12789,13329]\n",
    "HYDROPOWER = [925148,952609,982792,1027635,1064227,1097189,1126060,1150450,1171612]\n",
    "MARINE     = [249.6,502.7,509.4,509.9,513.0,513.0,523.3,529.9,532.1]\n",
    "SOLAR      = [40871,72683,102871,139602,177496,225820,297293,391063,485826]\n",
    "WIND       = [180854,219984,266866,299941,349185,416225,467052,514622,563726]\n",
    "Renewables_per_year = []\n",
    "Tempo_R = []\n",
    "for i in range(len(BIOENERGY)):\n",
    "    Renewables_per_year.append(BIOENERGY[i]+GEOTHERMAL[i]+HYDROPOWER[i]+MARINE[i]+SOLAR[i]+WIND[i])\n",
    "    Tempo_R.append(2010+i)\n",
    "plt.bar(Tempo_R, Renewables_per_year);"
   ]
  },
  {
   "cell_type": "code",
   "execution_count": 188,
   "metadata": {},
   "outputs": [
    {
     "data": {
      "text/html": [
       "<div>\n",
       "<style scoped>\n",
       "    .dataframe tbody tr th:only-of-type {\n",
       "        vertical-align: middle;\n",
       "    }\n",
       "\n",
       "    .dataframe tbody tr th {\n",
       "        vertical-align: top;\n",
       "    }\n",
       "\n",
       "    .dataframe thead th {\n",
       "        text-align: right;\n",
       "    }\n",
       "</style>\n",
       "<table border=\"1\" class=\"dataframe\">\n",
       "  <thead>\n",
       "    <tr style=\"text-align: right;\">\n",
       "      <th></th>\n",
       "      <th>2010</th>\n",
       "      <th>2011</th>\n",
       "      <th>2012</th>\n",
       "      <th>2013</th>\n",
       "      <th>2014</th>\n",
       "      <th>2015</th>\n",
       "      <th>2016</th>\n",
       "      <th>2017</th>\n",
       "      <th>2018</th>\n",
       "    </tr>\n",
       "  </thead>\n",
       "  <tbody>\n",
       "    <tr>\n",
       "      <th>ENERGIA</th>\n",
       "      <td>1224049.6</td>\n",
       "      <td>1329202.7</td>\n",
       "      <td>1441387.4</td>\n",
       "      <td>1563120.9</td>\n",
       "      <td>1693255.0</td>\n",
       "      <td>1848157.0</td>\n",
       "      <td>1995728.3</td>\n",
       "      <td>2178939.9</td>\n",
       "      <td>2350216.1</td>\n",
       "    </tr>\n",
       "  </tbody>\n",
       "</table>\n",
       "</div>"
      ],
      "text/plain": [
       "              2010       2011       2012       2013       2014       2015  \\\n",
       "ENERGIA  1224049.6  1329202.7  1441387.4  1563120.9  1693255.0  1848157.0   \n",
       "\n",
       "              2016       2017       2018  \n",
       "ENERGIA  1995728.3  2178939.9  2350216.1  "
      ]
     },
     "execution_count": 188,
     "metadata": {},
     "output_type": "execute_result"
    }
   ],
   "source": [
    "Renewables = pd.DataFrame(Renewables_per_year, index=Tempo_R, columns=['ENERGIA']).T\n",
    "Renewables"
   ]
  },
  {
   "cell_type": "markdown",
   "metadata": {},
   "source": [
    "**EMISSÕES DE CARBONO POR ANO**"
   ]
  },
  {
   "cell_type": "code",
   "execution_count": 189,
   "metadata": {},
   "outputs": [],
   "source": [
    "dados = pd.read_excel(\"WB_CarbonEmissions.xls\")\n",
    "del dados['World Development Indicators']\n",
    "del dados['Unnamed: 2']\n",
    "del dados['Unnamed: 3']\n",
    "\n",
    "dados = dados.drop([0,1])\n",
    "\n",
    "anos = dados.iloc[0,1:]\n",
    "\n",
    "for i in range(len(anos)):\n",
    "    anos[i] = int(anos[i])\n",
    "    \n",
    "countries = dados.iloc[1:,0]\n",
    "\n",
    "dados = dados.rename(columns = anos)\n",
    "\n",
    "del dados['Data Source']\n",
    "dados = dados.drop([2])\n",
    "\n",
    "dados = dados.rename(index = countries)\n",
    "\n",
    "Locais_ñ_países = [\"Arab World\", \"Central Europe and the Baltics\", \n",
    "                   \"East Asia & Pacific (excluding high income)\",\n",
    "                   \"Early-demographic dividend\", \"East Asia & Pacific\",\n",
    "                   \"Europe & Central Asia (excluding high income)\",\n",
    "                   \"Europe & Central Asia\", \"Euro area\", \"European Union\",\n",
    "                   \"Fragile and conflict affected situations\", \"High income\",\n",
    "                   \"Heavily indebted poor countries (HIPC)\", \"IBRD only\",\n",
    "                   \"IDA & IBRD total\", \"IDA total\", \"IDA blend\", \"IDA only\",\n",
    "                   \"Not classified\", \"Latin America & Caribbean\", \n",
    "                   \"Least developed countries: UN classification\",\n",
    "                   \"Low income\", \"Lower middle income\", \"Low & middle income\",\n",
    "                   \"Late-demographic dividend\", \"Middle East & North Africa\",\n",
    "                   \"OECD members\", \"Pre-demographic dividend\", \n",
    "                   \"Post-demographic dividend\", \"Sub-Saharan Africa (excluding high income)\",\n",
    "                   \"East Asia & Pacific (IDA & IBRD countries)\", \n",
    "                   \"Europe & Central Asia (IDA & IBRD countries)\",\n",
    "                   \"Latin America & the Caribbean (IDA & IBRD countries)\",\n",
    "                   \"Middle East & North Africa (IDA & IBRD countries)\",\n",
    "                   \"South Asia (IDA & IBRD)\",\"Sub-Saharan Africa (IDA & IBRD countries)\",\n",
    "                   \"Upper middle income\", \"World\", \"Caribbean small states\",\n",
    "                   \"Middle income\", \"Middle East & North Africa (excluding high income)\",\n",
    "                   \"North America\", \"Other small states\", \"Pacific island small states\",\n",
    "                   \"South Asia\", \"Sub-Saharan Africa\", \"Small states\"]\n",
    "\n",
    "World = dados.loc[\"World\",:]\n",
    "UK = dados.loc['United Kingdom',:]\n",
    "\n",
    "dados = dados.T\n",
    "for tag in Locais_ñ_países:\n",
    "    del dados[tag]\n",
    "dados = dados.T"
   ]
  },
  {
   "cell_type": "markdown",
   "metadata": {},
   "source": [
    "^^ DADOS SEM OS NÃO PAÍSES, INDICES ARRUMADOS, POSIÇÃO CORRETA"
   ]
  },
  {
   "cell_type": "code",
   "execution_count": 190,
   "metadata": {},
   "outputs": [],
   "source": [
    "IEA_paises = ['United States','United Kingdom','Turkey','Thailand','Switzerland','Sweden','Spain','Korea, Rep.','South Africa',\n",
    "              'Slovak Republic','Russian Federation','Portugal','Poland','Norway','New Zealand','Netherlands','Morocco','Japan',\n",
    "              'Italy','Indonesia','India','Hungary','Greece','Germany','France','Finland','Estonia','Denmark','Czech Republic',\n",
    "              'China','Chile','Canada','Brazil','Belgium','Austria','Australia']\n",
    "dados['IEA'] = ''\n",
    "for i in range(len(dados.index)):\n",
    "    if dados.index[i] in IEA_paises:\n",
    "        dados.at[dados.index[i],'IEA'] = True\n",
    "    else:\n",
    "        dados.at[dados.index[i],'IEA'] = False"
   ]
  },
  {
   "cell_type": "markdown",
   "metadata": {},
   "source": [
    "EMISSÕES: IEA PAÍSES MEMBROS :"
   ]
  },
  {
   "cell_type": "code",
   "execution_count": 191,
   "metadata": {},
   "outputs": [
    {
     "name": "stdout",
     "output_type": "stream",
     "text": [
      "828\n",
      "(36, 23)\n"
     ]
    }
   ],
   "source": [
    "Emissões_IEA = dados[dados.IEA == True]\n",
    "Emissões_IEA = Emissões_IEA.dropna(axis=1)\n",
    "Emissões_IEA = Emissões_IEA.dropna(axis=0)\n",
    "Emissões_IEA = Emissões_IEA.iloc[:,:-1]\n",
    "print(Emissões_IEA.size)\n",
    "print(Emissões_IEA.shape)"
   ]
  },
  {
   "cell_type": "code",
   "execution_count": 192,
   "metadata": {},
   "outputs": [],
   "source": [
    "Tempo = Emissões_IEA.columns"
   ]
  },
  {
   "cell_type": "markdown",
   "metadata": {},
   "source": [
    "EMISSÕES: NÃO MEMBROS :"
   ]
  },
  {
   "cell_type": "code",
   "execution_count": 193,
   "metadata": {},
   "outputs": [
    {
     "name": "stdout",
     "output_type": "stream",
     "text": [
      "3703\n",
      "(161, 23)\n"
     ]
    }
   ],
   "source": [
    "Emissões_ñ_IEA = dados[dados.IEA == False]\n",
    "    \n",
    "Emissões_ñ_IEA = Emissões_ñ_IEA.loc[ : , Tempo ]\n",
    "Emissões_ñ_IEA = Emissões_ñ_IEA.dropna(axis=0)\n",
    "Emissões_ñ_IEA = Emissões_ñ_IEA.dropna(axis=1)\n",
    "print(Emissões_ñ_IEA.size)\n",
    "print(Emissões_ñ_IEA.shape)"
   ]
  },
  {
   "cell_type": "markdown",
   "metadata": {},
   "source": [
    "EMISSÕES: GLOBAIS DE 1992 ATÉ 2014 (MEMBROS TEM DATA) :"
   ]
  },
  {
   "cell_type": "code",
   "execution_count": 194,
   "metadata": {},
   "outputs": [
    {
     "name": "stdout",
     "output_type": "stream",
     "text": [
      "4531\n",
      "(197, 23)\n"
     ]
    }
   ],
   "source": [
    "Emissões = dados.loc[ : , Tempo]\n",
    "Emissões = Emissões.dropna(axis=0)\n",
    "Emissões = Emissões.dropna(axis=1)\n",
    "print(Emissões.size)\n",
    "print(Emissões.shape)"
   ]
  },
  {
   "cell_type": "code",
   "execution_count": 195,
   "metadata": {},
   "outputs": [
    {
     "data": {
      "text/html": [
       "<div>\n",
       "<style scoped>\n",
       "    .dataframe tbody tr th:only-of-type {\n",
       "        vertical-align: middle;\n",
       "    }\n",
       "\n",
       "    .dataframe tbody tr th {\n",
       "        vertical-align: top;\n",
       "    }\n",
       "\n",
       "    .dataframe thead th {\n",
       "        text-align: right;\n",
       "    }\n",
       "</style>\n",
       "<table border=\"1\" class=\"dataframe\">\n",
       "  <thead>\n",
       "    <tr style=\"text-align: right;\">\n",
       "      <th></th>\n",
       "      <th>1992</th>\n",
       "      <th>1993</th>\n",
       "      <th>1994</th>\n",
       "      <th>1995</th>\n",
       "      <th>1996</th>\n",
       "      <th>1997</th>\n",
       "      <th>1998</th>\n",
       "      <th>1999</th>\n",
       "      <th>2000</th>\n",
       "      <th>2001</th>\n",
       "      <th>...</th>\n",
       "      <th>2005</th>\n",
       "      <th>2006</th>\n",
       "      <th>2007</th>\n",
       "      <th>2008</th>\n",
       "      <th>2009</th>\n",
       "      <th>2010</th>\n",
       "      <th>2011</th>\n",
       "      <th>2012</th>\n",
       "      <th>2013</th>\n",
       "      <th>2014</th>\n",
       "    </tr>\n",
       "  </thead>\n",
       "  <tbody>\n",
       "    <tr>\n",
       "      <th>Aruba</th>\n",
       "      <td>1463.133</td>\n",
       "      <td>1595.145</td>\n",
       "      <td>1613.480</td>\n",
       "      <td>1668.485</td>\n",
       "      <td>1690.487</td>\n",
       "      <td>1745.492</td>\n",
       "      <td>1796.830</td>\n",
       "      <td>1807.831</td>\n",
       "      <td>2379.883</td>\n",
       "      <td>2409.219</td>\n",
       "      <td>...</td>\n",
       "      <td>2720.914</td>\n",
       "      <td>2717.247</td>\n",
       "      <td>2823.590</td>\n",
       "      <td>2658.575</td>\n",
       "      <td>2629.239</td>\n",
       "      <td>2508.228</td>\n",
       "      <td>2500.894</td>\n",
       "      <td>1349.456</td>\n",
       "      <td>861.745</td>\n",
       "      <td>872.746</td>\n",
       "    </tr>\n",
       "    <tr>\n",
       "      <th>Afghanistan</th>\n",
       "      <td>1393.460</td>\n",
       "      <td>1345.789</td>\n",
       "      <td>1294.451</td>\n",
       "      <td>1243.113</td>\n",
       "      <td>1177.107</td>\n",
       "      <td>1096.433</td>\n",
       "      <td>1041.428</td>\n",
       "      <td>821.408</td>\n",
       "      <td>773.737</td>\n",
       "      <td>817.741</td>\n",
       "      <td>...</td>\n",
       "      <td>1327.454</td>\n",
       "      <td>1650.150</td>\n",
       "      <td>2273.540</td>\n",
       "      <td>4206.049</td>\n",
       "      <td>6769.282</td>\n",
       "      <td>8463.436</td>\n",
       "      <td>12240.446</td>\n",
       "      <td>10755.311</td>\n",
       "      <td>10014.577</td>\n",
       "      <td>9809.225</td>\n",
       "    </tr>\n",
       "    <tr>\n",
       "      <th>Angola</th>\n",
       "      <td>5196.139</td>\n",
       "      <td>5775.525</td>\n",
       "      <td>3890.687</td>\n",
       "      <td>10975.331</td>\n",
       "      <td>10458.284</td>\n",
       "      <td>7381.671</td>\n",
       "      <td>7308.331</td>\n",
       "      <td>9156.499</td>\n",
       "      <td>9541.534</td>\n",
       "      <td>9732.218</td>\n",
       "      <td>...</td>\n",
       "      <td>19156.408</td>\n",
       "      <td>22266.024</td>\n",
       "      <td>25151.953</td>\n",
       "      <td>25709.337</td>\n",
       "      <td>27792.193</td>\n",
       "      <td>29057.308</td>\n",
       "      <td>30340.758</td>\n",
       "      <td>33399.036</td>\n",
       "      <td>32617.965</td>\n",
       "      <td>34763.160</td>\n",
       "    </tr>\n",
       "    <tr>\n",
       "      <th>Albania</th>\n",
       "      <td>2515.562</td>\n",
       "      <td>2335.879</td>\n",
       "      <td>1925.175</td>\n",
       "      <td>2086.523</td>\n",
       "      <td>2016.850</td>\n",
       "      <td>1543.807</td>\n",
       "      <td>1752.826</td>\n",
       "      <td>2984.938</td>\n",
       "      <td>3021.608</td>\n",
       "      <td>3223.293</td>\n",
       "      <td>...</td>\n",
       "      <td>4253.720</td>\n",
       "      <td>3898.021</td>\n",
       "      <td>3927.357</td>\n",
       "      <td>4374.731</td>\n",
       "      <td>4378.398</td>\n",
       "      <td>4598.418</td>\n",
       "      <td>5240.143</td>\n",
       "      <td>4910.113</td>\n",
       "      <td>5064.127</td>\n",
       "      <td>5716.853</td>\n",
       "    </tr>\n",
       "    <tr>\n",
       "      <th>Andorra</th>\n",
       "      <td>407.037</td>\n",
       "      <td>410.704</td>\n",
       "      <td>407.037</td>\n",
       "      <td>425.372</td>\n",
       "      <td>454.708</td>\n",
       "      <td>465.709</td>\n",
       "      <td>491.378</td>\n",
       "      <td>513.380</td>\n",
       "      <td>524.381</td>\n",
       "      <td>524.381</td>\n",
       "      <td>...</td>\n",
       "      <td>575.719</td>\n",
       "      <td>546.383</td>\n",
       "      <td>539.049</td>\n",
       "      <td>539.049</td>\n",
       "      <td>517.047</td>\n",
       "      <td>517.047</td>\n",
       "      <td>491.378</td>\n",
       "      <td>487.711</td>\n",
       "      <td>476.710</td>\n",
       "      <td>462.042</td>\n",
       "    </tr>\n",
       "    <tr>\n",
       "      <th>United Arab Emirates</th>\n",
       "      <td>58136.618</td>\n",
       "      <td>65980.331</td>\n",
       "      <td>73130.981</td>\n",
       "      <td>70641.088</td>\n",
       "      <td>41059.399</td>\n",
       "      <td>41646.119</td>\n",
       "      <td>81495.408</td>\n",
       "      <td>78374.791</td>\n",
       "      <td>112562.232</td>\n",
       "      <td>101414.552</td>\n",
       "      <td>...</td>\n",
       "      <td>116148.558</td>\n",
       "      <td>123874.927</td>\n",
       "      <td>135627.662</td>\n",
       "      <td>157354.637</td>\n",
       "      <td>167959.601</td>\n",
       "      <td>160812.618</td>\n",
       "      <td>165440.372</td>\n",
       "      <td>176386.367</td>\n",
       "      <td>170706.184</td>\n",
       "      <td>211369.547</td>\n",
       "    </tr>\n",
       "    <tr>\n",
       "      <th>Argentina</th>\n",
       "      <td>121352.031</td>\n",
       "      <td>117927.053</td>\n",
       "      <td>122408.127</td>\n",
       "      <td>127963.632</td>\n",
       "      <td>135000.605</td>\n",
       "      <td>138003.878</td>\n",
       "      <td>139815.376</td>\n",
       "      <td>146984.361</td>\n",
       "      <td>142136.587</td>\n",
       "      <td>133720.822</td>\n",
       "      <td>...</td>\n",
       "      <td>162110.736</td>\n",
       "      <td>175436.614</td>\n",
       "      <td>175176.257</td>\n",
       "      <td>189107.190</td>\n",
       "      <td>179961.692</td>\n",
       "      <td>187919.082</td>\n",
       "      <td>191633.753</td>\n",
       "      <td>192356.152</td>\n",
       "      <td>189851.591</td>\n",
       "      <td>204024.546</td>\n",
       "    </tr>\n",
       "    <tr>\n",
       "      <th>Armenia</th>\n",
       "      <td>5826.863</td>\n",
       "      <td>2555.899</td>\n",
       "      <td>2706.246</td>\n",
       "      <td>3410.310</td>\n",
       "      <td>2563.233</td>\n",
       "      <td>3234.294</td>\n",
       "      <td>3362.639</td>\n",
       "      <td>3014.274</td>\n",
       "      <td>3465.315</td>\n",
       "      <td>3542.322</td>\n",
       "      <td>...</td>\n",
       "      <td>4352.729</td>\n",
       "      <td>4382.065</td>\n",
       "      <td>5064.127</td>\n",
       "      <td>5559.172</td>\n",
       "      <td>4360.063</td>\n",
       "      <td>4217.050</td>\n",
       "      <td>4917.447</td>\n",
       "      <td>5694.851</td>\n",
       "      <td>5496.833</td>\n",
       "      <td>5529.836</td>\n",
       "    </tr>\n",
       "    <tr>\n",
       "      <th>Antigua and Barbuda</th>\n",
       "      <td>264.024</td>\n",
       "      <td>271.358</td>\n",
       "      <td>267.691</td>\n",
       "      <td>275.025</td>\n",
       "      <td>293.360</td>\n",
       "      <td>308.028</td>\n",
       "      <td>319.029</td>\n",
       "      <td>330.030</td>\n",
       "      <td>344.698</td>\n",
       "      <td>348.365</td>\n",
       "      <td>...</td>\n",
       "      <td>429.039</td>\n",
       "      <td>443.707</td>\n",
       "      <td>469.376</td>\n",
       "      <td>480.377</td>\n",
       "      <td>509.713</td>\n",
       "      <td>524.381</td>\n",
       "      <td>513.380</td>\n",
       "      <td>524.381</td>\n",
       "      <td>524.381</td>\n",
       "      <td>531.715</td>\n",
       "    </tr>\n",
       "    <tr>\n",
       "      <th>Australia</th>\n",
       "      <td>267984.360</td>\n",
       "      <td>277397.549</td>\n",
       "      <td>278119.948</td>\n",
       "      <td>281860.288</td>\n",
       "      <td>302164.467</td>\n",
       "      <td>305794.797</td>\n",
       "      <td>316883.805</td>\n",
       "      <td>325343.574</td>\n",
       "      <td>329443.280</td>\n",
       "      <td>324844.862</td>\n",
       "      <td>...</td>\n",
       "      <td>350172.831</td>\n",
       "      <td>365346.877</td>\n",
       "      <td>372090.490</td>\n",
       "      <td>385904.079</td>\n",
       "      <td>394792.887</td>\n",
       "      <td>390861.863</td>\n",
       "      <td>391818.950</td>\n",
       "      <td>388126.281</td>\n",
       "      <td>372266.506</td>\n",
       "      <td>361261.839</td>\n",
       "    </tr>\n",
       "    <tr>\n",
       "      <th>Austria</th>\n",
       "      <td>56658.817</td>\n",
       "      <td>57102.524</td>\n",
       "      <td>57054.853</td>\n",
       "      <td>59783.101</td>\n",
       "      <td>63178.743</td>\n",
       "      <td>62658.029</td>\n",
       "      <td>63662.787</td>\n",
       "      <td>61869.624</td>\n",
       "      <td>62283.995</td>\n",
       "      <td>65888.656</td>\n",
       "      <td>...</td>\n",
       "      <td>74216.413</td>\n",
       "      <td>72162.893</td>\n",
       "      <td>69735.339</td>\n",
       "      <td>69027.608</td>\n",
       "      <td>62731.369</td>\n",
       "      <td>67502.136</td>\n",
       "      <td>65019.577</td>\n",
       "      <td>62272.994</td>\n",
       "      <td>62485.680</td>\n",
       "      <td>58712.337</td>\n",
       "    </tr>\n",
       "    <tr>\n",
       "      <th>Azerbaijan</th>\n",
       "      <td>56240.779</td>\n",
       "      <td>48452.071</td>\n",
       "      <td>41976.149</td>\n",
       "      <td>33333.030</td>\n",
       "      <td>31257.508</td>\n",
       "      <td>29809.043</td>\n",
       "      <td>31675.546</td>\n",
       "      <td>28576.931</td>\n",
       "      <td>29508.349</td>\n",
       "      <td>28771.282</td>\n",
       "      <td>...</td>\n",
       "      <td>34337.788</td>\n",
       "      <td>39167.227</td>\n",
       "      <td>30509.440</td>\n",
       "      <td>35503.894</td>\n",
       "      <td>31902.900</td>\n",
       "      <td>30678.122</td>\n",
       "      <td>33446.707</td>\n",
       "      <td>35555.232</td>\n",
       "      <td>35643.240</td>\n",
       "      <td>37487.741</td>\n",
       "    </tr>\n",
       "    <tr>\n",
       "      <th>Burundi</th>\n",
       "      <td>216.353</td>\n",
       "      <td>227.354</td>\n",
       "      <td>234.688</td>\n",
       "      <td>238.355</td>\n",
       "      <td>242.022</td>\n",
       "      <td>249.356</td>\n",
       "      <td>249.356</td>\n",
       "      <td>253.023</td>\n",
       "      <td>271.358</td>\n",
       "      <td>205.352</td>\n",
       "      <td>...</td>\n",
       "      <td>154.014</td>\n",
       "      <td>187.017</td>\n",
       "      <td>187.017</td>\n",
       "      <td>190.684</td>\n",
       "      <td>190.684</td>\n",
       "      <td>212.686</td>\n",
       "      <td>242.022</td>\n",
       "      <td>282.359</td>\n",
       "      <td>289.693</td>\n",
       "      <td>440.040</td>\n",
       "    </tr>\n",
       "    <tr>\n",
       "      <th>Belgium</th>\n",
       "      <td>111968.178</td>\n",
       "      <td>107652.119</td>\n",
       "      <td>112334.878</td>\n",
       "      <td>112327.544</td>\n",
       "      <td>118059.065</td>\n",
       "      <td>115341.818</td>\n",
       "      <td>118374.427</td>\n",
       "      <td>114260.053</td>\n",
       "      <td>115118.131</td>\n",
       "      <td>114527.744</td>\n",
       "      <td>...</td>\n",
       "      <td>108510.197</td>\n",
       "      <td>107072.733</td>\n",
       "      <td>103545.079</td>\n",
       "      <td>104443.494</td>\n",
       "      <td>99863.411</td>\n",
       "      <td>110824.074</td>\n",
       "      <td>99944.085</td>\n",
       "      <td>95107.312</td>\n",
       "      <td>96970.148</td>\n",
       "      <td>93350.819</td>\n",
       "    </tr>\n",
       "    <tr>\n",
       "      <th>Benin</th>\n",
       "      <td>898.415</td>\n",
       "      <td>1133.103</td>\n",
       "      <td>1265.115</td>\n",
       "      <td>1327.454</td>\n",
       "      <td>1265.115</td>\n",
       "      <td>1217.444</td>\n",
       "      <td>1213.777</td>\n",
       "      <td>1562.142</td>\n",
       "      <td>1598.812</td>\n",
       "      <td>1815.165</td>\n",
       "      <td>...</td>\n",
       "      <td>2394.551</td>\n",
       "      <td>3872.352</td>\n",
       "      <td>4495.742</td>\n",
       "      <td>4411.401</td>\n",
       "      <td>4660.757</td>\n",
       "      <td>5089.796</td>\n",
       "      <td>5295.148</td>\n",
       "      <td>5471.164</td>\n",
       "      <td>5812.195</td>\n",
       "      <td>6318.241</td>\n",
       "    </tr>\n",
       "    <tr>\n",
       "      <th>Burkina Faso</th>\n",
       "      <td>630.724</td>\n",
       "      <td>627.057</td>\n",
       "      <td>645.392</td>\n",
       "      <td>627.057</td>\n",
       "      <td>707.731</td>\n",
       "      <td>806.740</td>\n",
       "      <td>861.745</td>\n",
       "      <td>931.418</td>\n",
       "      <td>1041.428</td>\n",
       "      <td>997.424</td>\n",
       "      <td>...</td>\n",
       "      <td>1125.769</td>\n",
       "      <td>1360.457</td>\n",
       "      <td>1646.483</td>\n",
       "      <td>1917.841</td>\n",
       "      <td>1932.509</td>\n",
       "      <td>1961.845</td>\n",
       "      <td>2211.201</td>\n",
       "      <td>2629.239</td>\n",
       "      <td>3058.278</td>\n",
       "      <td>2849.259</td>\n",
       "    </tr>\n",
       "    <tr>\n",
       "      <th>Bangladesh</th>\n",
       "      <td>17748.280</td>\n",
       "      <td>17407.249</td>\n",
       "      <td>18969.391</td>\n",
       "      <td>22816.074</td>\n",
       "      <td>24029.851</td>\n",
       "      <td>25063.945</td>\n",
       "      <td>24048.186</td>\n",
       "      <td>25236.294</td>\n",
       "      <td>27869.200</td>\n",
       "      <td>32456.617</td>\n",
       "      <td>...</td>\n",
       "      <td>39478.922</td>\n",
       "      <td>43541.958</td>\n",
       "      <td>44381.701</td>\n",
       "      <td>49511.834</td>\n",
       "      <td>53736.218</td>\n",
       "      <td>59937.115</td>\n",
       "      <td>63413.431</td>\n",
       "      <td>67505.803</td>\n",
       "      <td>69709.670</td>\n",
       "      <td>73189.653</td>\n",
       "    </tr>\n",
       "    <tr>\n",
       "      <th>Bulgaria</th>\n",
       "      <td>54205.594</td>\n",
       "      <td>67861.502</td>\n",
       "      <td>54161.590</td>\n",
       "      <td>58004.606</td>\n",
       "      <td>56559.808</td>\n",
       "      <td>51616.692</td>\n",
       "      <td>48998.454</td>\n",
       "      <td>43981.998</td>\n",
       "      <td>43530.957</td>\n",
       "      <td>46453.556</td>\n",
       "      <td>...</td>\n",
       "      <td>47916.689</td>\n",
       "      <td>48991.120</td>\n",
       "      <td>52254.750</td>\n",
       "      <td>50740.279</td>\n",
       "      <td>42665.545</td>\n",
       "      <td>44114.010</td>\n",
       "      <td>49346.819</td>\n",
       "      <td>44708.064</td>\n",
       "      <td>39599.933</td>\n",
       "      <td>42416.189</td>\n",
       "    </tr>\n",
       "    <tr>\n",
       "      <th>Bahrain</th>\n",
       "      <td>10901.991</td>\n",
       "      <td>14642.331</td>\n",
       "      <td>14789.011</td>\n",
       "      <td>14818.347</td>\n",
       "      <td>15621.420</td>\n",
       "      <td>17319.241</td>\n",
       "      <td>18404.673</td>\n",
       "      <td>18019.638</td>\n",
       "      <td>18643.028</td>\n",
       "      <td>13927.266</td>\n",
       "      <td>...</td>\n",
       "      <td>19207.746</td>\n",
       "      <td>18830.045</td>\n",
       "      <td>26846.107</td>\n",
       "      <td>29768.706</td>\n",
       "      <td>28217.565</td>\n",
       "      <td>29266.327</td>\n",
       "      <td>28650.271</td>\n",
       "      <td>26673.758</td>\n",
       "      <td>31312.513</td>\n",
       "      <td>31338.182</td>\n",
       "    </tr>\n",
       "    <tr>\n",
       "      <th>Bahamas, The</th>\n",
       "      <td>1793.163</td>\n",
       "      <td>1701.488</td>\n",
       "      <td>1686.820</td>\n",
       "      <td>1683.153</td>\n",
       "      <td>1668.485</td>\n",
       "      <td>1364.124</td>\n",
       "      <td>1679.486</td>\n",
       "      <td>1675.819</td>\n",
       "      <td>1668.485</td>\n",
       "      <td>1569.476</td>\n",
       "      <td>...</td>\n",
       "      <td>1741.825</td>\n",
       "      <td>1664.818</td>\n",
       "      <td>1690.487</td>\n",
       "      <td>1496.136</td>\n",
       "      <td>1642.816</td>\n",
       "      <td>1653.817</td>\n",
       "      <td>1866.503</td>\n",
       "      <td>1969.179</td>\n",
       "      <td>2801.588</td>\n",
       "      <td>2416.553</td>\n",
       "    </tr>\n",
       "    <tr>\n",
       "      <th>Bosnia and Herzegovina</th>\n",
       "      <td>15053.035</td>\n",
       "      <td>12603.479</td>\n",
       "      <td>3230.627</td>\n",
       "      <td>3428.645</td>\n",
       "      <td>4257.387</td>\n",
       "      <td>8393.763</td>\n",
       "      <td>10593.963</td>\n",
       "      <td>10377.610</td>\n",
       "      <td>13787.920</td>\n",
       "      <td>13362.548</td>\n",
       "      <td>...</td>\n",
       "      <td>16204.473</td>\n",
       "      <td>17564.930</td>\n",
       "      <td>17652.938</td>\n",
       "      <td>20153.832</td>\n",
       "      <td>20703.882</td>\n",
       "      <td>21275.934</td>\n",
       "      <td>23886.838</td>\n",
       "      <td>22258.690</td>\n",
       "      <td>21921.326</td>\n",
       "      <td>22233.021</td>\n",
       "    </tr>\n",
       "    <tr>\n",
       "      <th>Belarus</th>\n",
       "      <td>87417.613</td>\n",
       "      <td>76768.645</td>\n",
       "      <td>65056.247</td>\n",
       "      <td>60773.191</td>\n",
       "      <td>60164.469</td>\n",
       "      <td>59555.747</td>\n",
       "      <td>58099.948</td>\n",
       "      <td>56112.434</td>\n",
       "      <td>53787.556</td>\n",
       "      <td>52760.796</td>\n",
       "      <td>...</td>\n",
       "      <td>59167.045</td>\n",
       "      <td>62071.309</td>\n",
       "      <td>60523.835</td>\n",
       "      <td>63105.403</td>\n",
       "      <td>61220.565</td>\n",
       "      <td>63043.064</td>\n",
       "      <td>64062.490</td>\n",
       "      <td>63222.747</td>\n",
       "      <td>63769.130</td>\n",
       "      <td>63497.772</td>\n",
       "    </tr>\n",
       "    <tr>\n",
       "      <th>Belize</th>\n",
       "      <td>355.699</td>\n",
       "      <td>377.701</td>\n",
       "      <td>374.034</td>\n",
       "      <td>377.701</td>\n",
       "      <td>308.028</td>\n",
       "      <td>388.702</td>\n",
       "      <td>370.367</td>\n",
       "      <td>348.365</td>\n",
       "      <td>396.036</td>\n",
       "      <td>447.374</td>\n",
       "      <td>...</td>\n",
       "      <td>421.705</td>\n",
       "      <td>443.707</td>\n",
       "      <td>476.710</td>\n",
       "      <td>436.373</td>\n",
       "      <td>586.720</td>\n",
       "      <td>539.049</td>\n",
       "      <td>601.388</td>\n",
       "      <td>476.710</td>\n",
       "      <td>513.380</td>\n",
       "      <td>495.045</td>\n",
       "    </tr>\n",
       "    <tr>\n",
       "      <th>Bermuda</th>\n",
       "      <td>462.042</td>\n",
       "      <td>539.049</td>\n",
       "      <td>531.715</td>\n",
       "      <td>531.715</td>\n",
       "      <td>528.048</td>\n",
       "      <td>524.381</td>\n",
       "      <td>520.714</td>\n",
       "      <td>513.380</td>\n",
       "      <td>517.047</td>\n",
       "      <td>528.048</td>\n",
       "      <td>...</td>\n",
       "      <td>583.053</td>\n",
       "      <td>652.726</td>\n",
       "      <td>729.733</td>\n",
       "      <td>649.059</td>\n",
       "      <td>476.710</td>\n",
       "      <td>608.722</td>\n",
       "      <td>443.707</td>\n",
       "      <td>476.710</td>\n",
       "      <td>458.375</td>\n",
       "      <td>575.719</td>\n",
       "    </tr>\n",
       "    <tr>\n",
       "      <th>Bolivia</th>\n",
       "      <td>6655.605</td>\n",
       "      <td>7829.045</td>\n",
       "      <td>8635.785</td>\n",
       "      <td>9849.562</td>\n",
       "      <td>9827.560</td>\n",
       "      <td>10942.328</td>\n",
       "      <td>10989.999</td>\n",
       "      <td>10443.616</td>\n",
       "      <td>11067.006</td>\n",
       "      <td>8621.117</td>\n",
       "      <td>...</td>\n",
       "      <td>12185.441</td>\n",
       "      <td>15056.702</td>\n",
       "      <td>12332.121</td>\n",
       "      <td>13237.870</td>\n",
       "      <td>13989.605</td>\n",
       "      <td>15203.382</td>\n",
       "      <td>16145.801</td>\n",
       "      <td>18793.375</td>\n",
       "      <td>18918.053</td>\n",
       "      <td>20410.522</td>\n",
       "    </tr>\n",
       "  </tbody>\n",
       "</table>\n",
       "<p>25 rows × 23 columns</p>\n",
       "</div>"
      ],
      "text/plain": [
       "                              1992        1993        1994        1995  \\\n",
       "Aruba                     1463.133    1595.145    1613.480    1668.485   \n",
       "Afghanistan               1393.460    1345.789    1294.451    1243.113   \n",
       "Angola                    5196.139    5775.525    3890.687   10975.331   \n",
       "Albania                   2515.562    2335.879    1925.175    2086.523   \n",
       "Andorra                    407.037     410.704     407.037     425.372   \n",
       "United Arab Emirates     58136.618   65980.331   73130.981   70641.088   \n",
       "Argentina               121352.031  117927.053  122408.127  127963.632   \n",
       "Armenia                   5826.863    2555.899    2706.246    3410.310   \n",
       "Antigua and Barbuda        264.024     271.358     267.691     275.025   \n",
       "Australia               267984.360  277397.549  278119.948  281860.288   \n",
       "Austria                  56658.817   57102.524   57054.853   59783.101   \n",
       "Azerbaijan               56240.779   48452.071   41976.149   33333.030   \n",
       "Burundi                    216.353     227.354     234.688     238.355   \n",
       "Belgium                 111968.178  107652.119  112334.878  112327.544   \n",
       "Benin                      898.415    1133.103    1265.115    1327.454   \n",
       "Burkina Faso               630.724     627.057     645.392     627.057   \n",
       "Bangladesh               17748.280   17407.249   18969.391   22816.074   \n",
       "Bulgaria                 54205.594   67861.502   54161.590   58004.606   \n",
       "Bahrain                  10901.991   14642.331   14789.011   14818.347   \n",
       "Bahamas, The              1793.163    1701.488    1686.820    1683.153   \n",
       "Bosnia and Herzegovina   15053.035   12603.479    3230.627    3428.645   \n",
       "Belarus                  87417.613   76768.645   65056.247   60773.191   \n",
       "Belize                     355.699     377.701     374.034     377.701   \n",
       "Bermuda                    462.042     539.049     531.715     531.715   \n",
       "Bolivia                   6655.605    7829.045    8635.785    9849.562   \n",
       "\n",
       "                              1996        1997        1998        1999  \\\n",
       "Aruba                     1690.487    1745.492    1796.830    1807.831   \n",
       "Afghanistan               1177.107    1096.433    1041.428     821.408   \n",
       "Angola                   10458.284    7381.671    7308.331    9156.499   \n",
       "Albania                   2016.850    1543.807    1752.826    2984.938   \n",
       "Andorra                    454.708     465.709     491.378     513.380   \n",
       "United Arab Emirates     41059.399   41646.119   81495.408   78374.791   \n",
       "Argentina               135000.605  138003.878  139815.376  146984.361   \n",
       "Armenia                   2563.233    3234.294    3362.639    3014.274   \n",
       "Antigua and Barbuda        293.360     308.028     319.029     330.030   \n",
       "Australia               302164.467  305794.797  316883.805  325343.574   \n",
       "Austria                  63178.743   62658.029   63662.787   61869.624   \n",
       "Azerbaijan               31257.508   29809.043   31675.546   28576.931   \n",
       "Burundi                    242.022     249.356     249.356     253.023   \n",
       "Belgium                 118059.065  115341.818  118374.427  114260.053   \n",
       "Benin                     1265.115    1217.444    1213.777    1562.142   \n",
       "Burkina Faso               707.731     806.740     861.745     931.418   \n",
       "Bangladesh               24029.851   25063.945   24048.186   25236.294   \n",
       "Bulgaria                 56559.808   51616.692   48998.454   43981.998   \n",
       "Bahrain                  15621.420   17319.241   18404.673   18019.638   \n",
       "Bahamas, The              1668.485    1364.124    1679.486    1675.819   \n",
       "Bosnia and Herzegovina    4257.387    8393.763   10593.963   10377.610   \n",
       "Belarus                  60164.469   59555.747   58099.948   56112.434   \n",
       "Belize                     308.028     388.702     370.367     348.365   \n",
       "Bermuda                    528.048     524.381     520.714     513.380   \n",
       "Bolivia                   9827.560   10942.328   10989.999   10443.616   \n",
       "\n",
       "                              2000        2001  ...        2005        2006  \\\n",
       "Aruba                     2379.883    2409.219  ...    2720.914    2717.247   \n",
       "Afghanistan                773.737     817.741  ...    1327.454    1650.150   \n",
       "Angola                    9541.534    9732.218  ...   19156.408   22266.024   \n",
       "Albania                   3021.608    3223.293  ...    4253.720    3898.021   \n",
       "Andorra                    524.381     524.381  ...     575.719     546.383   \n",
       "United Arab Emirates    112562.232  101414.552  ...  116148.558  123874.927   \n",
       "Argentina               142136.587  133720.822  ...  162110.736  175436.614   \n",
       "Armenia                   3465.315    3542.322  ...    4352.729    4382.065   \n",
       "Antigua and Barbuda        344.698     348.365  ...     429.039     443.707   \n",
       "Australia               329443.280  324844.862  ...  350172.831  365346.877   \n",
       "Austria                  62283.995   65888.656  ...   74216.413   72162.893   \n",
       "Azerbaijan               29508.349   28771.282  ...   34337.788   39167.227   \n",
       "Burundi                    271.358     205.352  ...     154.014     187.017   \n",
       "Belgium                 115118.131  114527.744  ...  108510.197  107072.733   \n",
       "Benin                     1598.812    1815.165  ...    2394.551    3872.352   \n",
       "Burkina Faso              1041.428     997.424  ...    1125.769    1360.457   \n",
       "Bangladesh               27869.200   32456.617  ...   39478.922   43541.958   \n",
       "Bulgaria                 43530.957   46453.556  ...   47916.689   48991.120   \n",
       "Bahrain                  18643.028   13927.266  ...   19207.746   18830.045   \n",
       "Bahamas, The              1668.485    1569.476  ...    1741.825    1664.818   \n",
       "Bosnia and Herzegovina   13787.920   13362.548  ...   16204.473   17564.930   \n",
       "Belarus                  53787.556   52760.796  ...   59167.045   62071.309   \n",
       "Belize                     396.036     447.374  ...     421.705     443.707   \n",
       "Bermuda                    517.047     528.048  ...     583.053     652.726   \n",
       "Bolivia                  11067.006    8621.117  ...   12185.441   15056.702   \n",
       "\n",
       "                              2007        2008        2009        2010  \\\n",
       "Aruba                     2823.590    2658.575    2629.239    2508.228   \n",
       "Afghanistan               2273.540    4206.049    6769.282    8463.436   \n",
       "Angola                   25151.953   25709.337   27792.193   29057.308   \n",
       "Albania                   3927.357    4374.731    4378.398    4598.418   \n",
       "Andorra                    539.049     539.049     517.047     517.047   \n",
       "United Arab Emirates    135627.662  157354.637  167959.601  160812.618   \n",
       "Argentina               175176.257  189107.190  179961.692  187919.082   \n",
       "Armenia                   5064.127    5559.172    4360.063    4217.050   \n",
       "Antigua and Barbuda        469.376     480.377     509.713     524.381   \n",
       "Australia               372090.490  385904.079  394792.887  390861.863   \n",
       "Austria                  69735.339   69027.608   62731.369   67502.136   \n",
       "Azerbaijan               30509.440   35503.894   31902.900   30678.122   \n",
       "Burundi                    187.017     190.684     190.684     212.686   \n",
       "Belgium                 103545.079  104443.494   99863.411  110824.074   \n",
       "Benin                     4495.742    4411.401    4660.757    5089.796   \n",
       "Burkina Faso              1646.483    1917.841    1932.509    1961.845   \n",
       "Bangladesh               44381.701   49511.834   53736.218   59937.115   \n",
       "Bulgaria                 52254.750   50740.279   42665.545   44114.010   \n",
       "Bahrain                  26846.107   29768.706   28217.565   29266.327   \n",
       "Bahamas, The              1690.487    1496.136    1642.816    1653.817   \n",
       "Bosnia and Herzegovina   17652.938   20153.832   20703.882   21275.934   \n",
       "Belarus                  60523.835   63105.403   61220.565   63043.064   \n",
       "Belize                     476.710     436.373     586.720     539.049   \n",
       "Bermuda                    729.733     649.059     476.710     608.722   \n",
       "Bolivia                  12332.121   13237.870   13989.605   15203.382   \n",
       "\n",
       "                              2011        2012        2013        2014  \n",
       "Aruba                     2500.894    1349.456     861.745     872.746  \n",
       "Afghanistan              12240.446   10755.311   10014.577    9809.225  \n",
       "Angola                   30340.758   33399.036   32617.965   34763.160  \n",
       "Albania                   5240.143    4910.113    5064.127    5716.853  \n",
       "Andorra                    491.378     487.711     476.710     462.042  \n",
       "United Arab Emirates    165440.372  176386.367  170706.184  211369.547  \n",
       "Argentina               191633.753  192356.152  189851.591  204024.546  \n",
       "Armenia                   4917.447    5694.851    5496.833    5529.836  \n",
       "Antigua and Barbuda        513.380     524.381     524.381     531.715  \n",
       "Australia               391818.950  388126.281  372266.506  361261.839  \n",
       "Austria                  65019.577   62272.994   62485.680   58712.337  \n",
       "Azerbaijan               33446.707   35555.232   35643.240   37487.741  \n",
       "Burundi                    242.022     282.359     289.693     440.040  \n",
       "Belgium                  99944.085   95107.312   96970.148   93350.819  \n",
       "Benin                     5295.148    5471.164    5812.195    6318.241  \n",
       "Burkina Faso              2211.201    2629.239    3058.278    2849.259  \n",
       "Bangladesh               63413.431   67505.803   69709.670   73189.653  \n",
       "Bulgaria                 49346.819   44708.064   39599.933   42416.189  \n",
       "Bahrain                  28650.271   26673.758   31312.513   31338.182  \n",
       "Bahamas, The              1866.503    1969.179    2801.588    2416.553  \n",
       "Bosnia and Herzegovina   23886.838   22258.690   21921.326   22233.021  \n",
       "Belarus                  64062.490   63222.747   63769.130   63497.772  \n",
       "Belize                     601.388     476.710     513.380     495.045  \n",
       "Bermuda                    443.707     476.710     458.375     575.719  \n",
       "Bolivia                  16145.801   18793.375   18918.053   20410.522  \n",
       "\n",
       "[25 rows x 23 columns]"
      ]
     },
     "execution_count": 195,
     "metadata": {},
     "output_type": "execute_result"
    }
   ],
   "source": [
    "Emissões.head(25)"
   ]
  },
  {
   "cell_type": "markdown",
   "metadata": {},
   "source": [
    "## ANÁLISE"
   ]
  },
  {
   "cell_type": "markdown",
   "metadata": {},
   "source": [
    "Média"
   ]
  },
  {
   "cell_type": "code",
   "execution_count": 196,
   "metadata": {},
   "outputs": [],
   "source": [
    "Média_Emissões = Emissões.mean()\n",
    "Média_ñ_IEA    = Emissões_ñ_IEA.mean()\n",
    "Média_IEA      = Emissões_IEA.mean()"
   ]
  },
  {
   "cell_type": "code",
   "execution_count": 197,
   "metadata": {},
   "outputs": [],
   "source": [
    "def TwoAxis(listax, labelx,  listay1, labely1, listay2, labely2, color1, color2):     \n",
    "    fig, ax1 = plt.subplots()\n",
    "    ax1.plot(listax, listay1, color1)\n",
    "    ax1.set_xlabel(labelx)\n",
    "    ax1.set_ylabel(labely1, color=color1)\n",
    "    for tl in ax1.get_yticklabels():\n",
    "        tl.set_color(color1)    \n",
    "    ax2 = ax1.twinx()\n",
    "    ax2.plot(listax, listay2, color2)\n",
    "    ax2.set_ylabel(labely2, color=color2)\n",
    "    for tl in ax2.get_yticklabels():\n",
    "        tl.set_color(color2)"
   ]
  },
  {
   "cell_type": "code",
   "execution_count": 198,
   "metadata": {},
   "outputs": [],
   "source": [
    "def reta(dados_x, dados_y, c):    \n",
    "    a = dados_y.cov(dados_x) / dados_x.var()\n",
    "    b = dados_y.mean() - a*dados_x.mean()\n",
    "\n",
    "    print('Coeficiente linear:', b)\n",
    "    print('Coeficiente angular:', a)\n",
    "    plt.scatter(dados_x, dados_y, c=c, alpha=0.8)\n",
    "\n",
    "    plt.plot((dados_x.min(), dados_x.max()), (a*dados_x.min()+b, a*dados_x.max()+b), color=c)\n",
    "\n",
    "    plt.tight_layout()"
   ]
  },
  {
   "cell_type": "markdown",
   "metadata": {},
   "source": [
    "**Data de interesse**"
   ]
  },
  {
   "cell_type": "markdown",
   "metadata": {},
   "source": [
    "World"
   ]
  },
  {
   "cell_type": "code",
   "execution_count": 199,
   "metadata": {},
   "outputs": [
    {
     "data": {
      "text/plain": [
       "[<matplotlib.lines.Line2D at 0x21d7d2eb400>]"
      ]
     },
     "execution_count": 199,
     "metadata": {},
     "output_type": "execute_result"
    },
    {
     "data": {
      "image/png": "[encoded data removed]",
      "text/plain": [
       "<Figure size 432x288 with 1 Axes>"
      ]
     },
     "metadata": {
      "needs_background": "light"
     },
     "output_type": "display_data"
    }
   ],
   "source": [
    "WD_Reference = (pd.DataFrame(World).T).loc[ :, list(Tempo) ]\n",
    "y = WD_Reference.T['World']\n",
    "plt.plot(y, 'b--')"
   ]
  },
  {
   "cell_type": "code",
   "execution_count": 200,
   "metadata": {},
   "outputs": [
    {
     "data": {
      "text/plain": [
       "[<matplotlib.lines.Line2D at 0x21d7d24c1d0>]"
      ]
     },
     "execution_count": 200,
     "metadata": {},
     "output_type": "execute_result"
    },
    {
     "data": {
      "image/png": "[encoded data removed]",
      "text/plain": [
       "<Figure size 432x288 with 1 Axes>"
      ]
     },
     "metadata": {
      "needs_background": "light"
     },
     "output_type": "display_data"
    }
   ],
   "source": [
    "def CalculaVariação(y):\n",
    "    lista = []\n",
    "    for i in range(0,len(y)-1):\n",
    "        lista.append( ( (y.iloc[i+1]/y.iloc[i]) -1 )*100)\n",
    "    ext = lista[i] - lista[i-1]\n",
    "    lista.append(ext)\n",
    "    return lista\n",
    "lista = CalculaVariação(y)\n",
    "plt.plot(y.index,lista, 'b--o')"
   ]
  },
  {
   "cell_type": "code",
   "execution_count": 201,
   "metadata": {},
   "outputs": [
    {
     "data": {
      "image/png": "[encoded data removed]",
      "text/plain": [
       "<Figure size 432x288 with 2 Axes>"
      ]
     },
     "metadata": {
      "needs_background": "light"
     },
     "output_type": "display_data"
    }
   ],
   "source": [
    "TwoAxis(y.index, 'Time', y,'WD', lista, 'Variação', 'b', 'r')"
   ]
  },
  {
   "cell_type": "markdown",
   "metadata": {},
   "source": [
    "UK - Country"
   ]
  },
  {
   "cell_type": "code",
   "execution_count": 202,
   "metadata": {},
   "outputs": [
    {
     "data": {
      "text/plain": [
       "[<matplotlib.lines.Line2D at 0x21d7d2a5438>]"
      ]
     },
     "execution_count": 202,
     "metadata": {},
     "output_type": "execute_result"
    },
    {
     "data": {
      "image/png": "[encoded data removed]",
      "text/plain": [
       "<Figure size 432x288 with 1 Axes>"
      ]
     },
     "metadata": {
      "needs_background": "light"
     },
     "output_type": "display_data"
    }
   ],
   "source": [
    "UK_Reference = (pd.DataFrame(UK).T).dropna(axis=1)\n",
    "y = UK_Reference.T['United Kingdom']\n",
    "plt.plot(y, 'k:')"
   ]
  },
  {
   "cell_type": "markdown",
   "metadata": {},
   "source": [
    "RELACIONANDO DOIS FATORES (EMISSÕES, ENERGIA RENOVÁVEL)"
   ]
  },
  {
   "cell_type": "code",
   "execution_count": 203,
   "metadata": {},
   "outputs": [
    {
     "data": {
      "text/html": [
       "<div>\n",
       "<style scoped>\n",
       "    .dataframe tbody tr th:only-of-type {\n",
       "        vertical-align: middle;\n",
       "    }\n",
       "\n",
       "    .dataframe tbody tr th {\n",
       "        vertical-align: top;\n",
       "    }\n",
       "\n",
       "    .dataframe thead th {\n",
       "        text-align: right;\n",
       "    }\n",
       "</style>\n",
       "<table border=\"1\" class=\"dataframe\">\n",
       "  <thead>\n",
       "    <tr style=\"text-align: right;\">\n",
       "      <th></th>\n",
       "      <th>2010</th>\n",
       "      <th>2011</th>\n",
       "      <th>2012</th>\n",
       "      <th>2013</th>\n",
       "      <th>2014</th>\n",
       "      <th>2015</th>\n",
       "      <th>2016</th>\n",
       "      <th>2017</th>\n",
       "      <th>2018</th>\n",
       "    </tr>\n",
       "  </thead>\n",
       "  <tbody>\n",
       "    <tr>\n",
       "      <th>ENERGIA</th>\n",
       "      <td>1224049.6</td>\n",
       "      <td>1329202.7</td>\n",
       "      <td>1441387.4</td>\n",
       "      <td>1563120.9</td>\n",
       "      <td>1693255.0</td>\n",
       "      <td>1848157.0</td>\n",
       "      <td>1995728.3</td>\n",
       "      <td>2178939.9</td>\n",
       "      <td>2350216.1</td>\n",
       "    </tr>\n",
       "  </tbody>\n",
       "</table>\n",
       "</div>"
      ],
      "text/plain": [
       "              2010       2011       2012       2013       2014       2015  \\\n",
       "ENERGIA  1224049.6  1329202.7  1441387.4  1563120.9  1693255.0  1848157.0   \n",
       "\n",
       "              2016       2017       2018  \n",
       "ENERGIA  1995728.3  2178939.9  2350216.1  "
      ]
     },
     "execution_count": 203,
     "metadata": {},
     "output_type": "execute_result"
    }
   ],
   "source": [
    "Renewables"
   ]
  },
  {
   "cell_type": "code",
   "execution_count": 204,
   "metadata": {},
   "outputs": [
    {
     "data": {
      "text/html": [
       "<div>\n",
       "<style scoped>\n",
       "    .dataframe tbody tr th:only-of-type {\n",
       "        vertical-align: middle;\n",
       "    }\n",
       "\n",
       "    .dataframe tbody tr th {\n",
       "        vertical-align: top;\n",
       "    }\n",
       "\n",
       "    .dataframe thead th {\n",
       "        text-align: right;\n",
       "    }\n",
       "</style>\n",
       "<table border=\"1\" class=\"dataframe\">\n",
       "  <thead>\n",
       "    <tr style=\"text-align: right;\">\n",
       "      <th></th>\n",
       "      <th>1992</th>\n",
       "      <th>1993</th>\n",
       "      <th>1994</th>\n",
       "      <th>1995</th>\n",
       "      <th>1996</th>\n",
       "      <th>1997</th>\n",
       "      <th>1998</th>\n",
       "      <th>1999</th>\n",
       "      <th>2000</th>\n",
       "      <th>2001</th>\n",
       "      <th>...</th>\n",
       "      <th>2005</th>\n",
       "      <th>2006</th>\n",
       "      <th>2007</th>\n",
       "      <th>2008</th>\n",
       "      <th>2009</th>\n",
       "      <th>2010</th>\n",
       "      <th>2011</th>\n",
       "      <th>2012</th>\n",
       "      <th>2013</th>\n",
       "      <th>2014</th>\n",
       "    </tr>\n",
       "  </thead>\n",
       "  <tbody>\n",
       "    <tr>\n",
       "      <th>World</th>\n",
       "      <td>2.218342e+07</td>\n",
       "      <td>22162174.56</td>\n",
       "      <td>2.255169e+07</td>\n",
       "      <td>23037524.13</td>\n",
       "      <td>2.357156e+07</td>\n",
       "      <td>2.397501e+07</td>\n",
       "      <td>24114192.0</td>\n",
       "      <td>24059187.0</td>\n",
       "      <td>24689911.0</td>\n",
       "      <td>25276631.0</td>\n",
       "      <td>...</td>\n",
       "      <td>29490014.0</td>\n",
       "      <td>30568112.0</td>\n",
       "      <td>31180501.0</td>\n",
       "      <td>32181592.0</td>\n",
       "      <td>31891899.0</td>\n",
       "      <td>33472376.0</td>\n",
       "      <td>34847501.0</td>\n",
       "      <td>35470891.0</td>\n",
       "      <td>35837591.0</td>\n",
       "      <td>36138285.0</td>\n",
       "    </tr>\n",
       "  </tbody>\n",
       "</table>\n",
       "<p>1 rows × 23 columns</p>\n",
       "</div>"
      ],
      "text/plain": [
       "               1992         1993          1994         1995          1996  \\\n",
       "World  2.218342e+07  22162174.56  2.255169e+07  23037524.13  2.357156e+07   \n",
       "\n",
       "               1997        1998        1999        2000        2001  ...  \\\n",
       "World  2.397501e+07  24114192.0  24059187.0  24689911.0  25276631.0  ...   \n",
       "\n",
       "             2005        2006        2007        2008        2009        2010  \\\n",
       "World  29490014.0  30568112.0  31180501.0  32181592.0  31891899.0  33472376.0   \n",
       "\n",
       "             2011        2012        2013        2014  \n",
       "World  34847501.0  35470891.0  35837591.0  36138285.0  \n",
       "\n",
       "[1 rows x 23 columns]"
      ]
     },
     "execution_count": 204,
     "metadata": {},
     "output_type": "execute_result"
    }
   ],
   "source": [
    "WD_Reference"
   ]
  },
  {
   "cell_type": "code",
   "execution_count": 205,
   "metadata": {},
   "outputs": [
    {
     "data": {
      "text/html": [
       "<div>\n",
       "<style scoped>\n",
       "    .dataframe tbody tr th:only-of-type {\n",
       "        vertical-align: middle;\n",
       "    }\n",
       "\n",
       "    .dataframe tbody tr th {\n",
       "        vertical-align: top;\n",
       "    }\n",
       "\n",
       "    .dataframe thead th {\n",
       "        text-align: right;\n",
       "    }\n",
       "</style>\n",
       "<table border=\"1\" class=\"dataframe\">\n",
       "  <thead>\n",
       "    <tr style=\"text-align: right;\">\n",
       "      <th></th>\n",
       "      <th>1992</th>\n",
       "      <th>1993</th>\n",
       "      <th>1994</th>\n",
       "      <th>1995</th>\n",
       "      <th>1996</th>\n",
       "      <th>1997</th>\n",
       "      <th>1998</th>\n",
       "      <th>1999</th>\n",
       "      <th>2000</th>\n",
       "      <th>2001</th>\n",
       "      <th>...</th>\n",
       "      <th>2005</th>\n",
       "      <th>2006</th>\n",
       "      <th>2007</th>\n",
       "      <th>2008</th>\n",
       "      <th>2009</th>\n",
       "      <th>2010</th>\n",
       "      <th>2011</th>\n",
       "      <th>2012</th>\n",
       "      <th>2013</th>\n",
       "      <th>2014</th>\n",
       "    </tr>\n",
       "  </thead>\n",
       "  <tbody>\n",
       "    <tr>\n",
       "      <th>Delta_WD</th>\n",
       "      <td>-0.09576</td>\n",
       "      <td>1.757572</td>\n",
       "      <td>2.154311</td>\n",
       "      <td>2.318099</td>\n",
       "      <td>1.7116</td>\n",
       "      <td>0.580541</td>\n",
       "      <td>-0.228102</td>\n",
       "      <td>2.621552</td>\n",
       "      <td>2.376355</td>\n",
       "      <td>1.465255</td>\n",
       "      <td>...</td>\n",
       "      <td>3.655807</td>\n",
       "      <td>2.003359</td>\n",
       "      <td>3.210632</td>\n",
       "      <td>-0.900182</td>\n",
       "      <td>4.955732</td>\n",
       "      <td>4.108238</td>\n",
       "      <td>1.788909</td>\n",
       "      <td>1.033805</td>\n",
       "      <td>0.839046</td>\n",
       "      <td>-0.194759</td>\n",
       "    </tr>\n",
       "  </tbody>\n",
       "</table>\n",
       "<p>1 rows × 23 columns</p>\n",
       "</div>"
      ],
      "text/plain": [
       "             1992      1993      1994      1995    1996      1997      1998  \\\n",
       "Delta_WD -0.09576  1.757572  2.154311  2.318099  1.7116  0.580541 -0.228102   \n",
       "\n",
       "              1999      2000      2001  ...      2005      2006      2007  \\\n",
       "Delta_WD  2.621552  2.376355  1.465255  ...  3.655807  2.003359  3.210632   \n",
       "\n",
       "              2008      2009      2010      2011      2012      2013      2014  \n",
       "Delta_WD -0.900182  4.955732  4.108238  1.788909  1.033805  0.839046 -0.194759  \n",
       "\n",
       "[1 rows x 23 columns]"
      ]
     },
     "execution_count": 205,
     "metadata": {},
     "output_type": "execute_result"
    }
   ],
   "source": [
    "Variação_WD = pd.DataFrame(lista, index=WD_Reference.T.index, columns=['Delta_WD'])\n",
    "Variação_WD.T"
   ]
  },
  {
   "cell_type": "code",
   "execution_count": 206,
   "metadata": {},
   "outputs": [
    {
     "data": {
      "text/html": [
       "<div>\n",
       "<style scoped>\n",
       "    .dataframe tbody tr th:only-of-type {\n",
       "        vertical-align: middle;\n",
       "    }\n",
       "\n",
       "    .dataframe tbody tr th {\n",
       "        vertical-align: top;\n",
       "    }\n",
       "\n",
       "    .dataframe thead th {\n",
       "        text-align: right;\n",
       "    }\n",
       "</style>\n",
       "<table border=\"1\" class=\"dataframe\">\n",
       "  <thead>\n",
       "    <tr style=\"text-align: right;\">\n",
       "      <th></th>\n",
       "      <th>2010</th>\n",
       "      <th>2011</th>\n",
       "      <th>2012</th>\n",
       "      <th>2013</th>\n",
       "      <th>2014</th>\n",
       "      <th>2015</th>\n",
       "      <th>2016</th>\n",
       "      <th>2017</th>\n",
       "      <th>2018</th>\n",
       "    </tr>\n",
       "  </thead>\n",
       "  <tbody>\n",
       "    <tr>\n",
       "      <th>Delta_E</th>\n",
       "      <td>8.590591</td>\n",
       "      <td>8.439999</td>\n",
       "      <td>8.445578</td>\n",
       "      <td>8.325274</td>\n",
       "      <td>9.148179</td>\n",
       "      <td>7.984782</td>\n",
       "      <td>9.180188</td>\n",
       "      <td>7.860529</td>\n",
       "      <td>-1.319659</td>\n",
       "    </tr>\n",
       "  </tbody>\n",
       "</table>\n",
       "</div>"
      ],
      "text/plain": [
       "             2010      2011      2012      2013      2014      2015      2016  \\\n",
       "Delta_E  8.590591  8.439999  8.445578  8.325274  9.148179  7.984782  9.180188   \n",
       "\n",
       "             2017      2018  \n",
       "Delta_E  7.860529 -1.319659  "
      ]
     },
     "execution_count": 206,
     "metadata": {},
     "output_type": "execute_result"
    }
   ],
   "source": [
    "Variação_E = CalculaVariação(Renewables.T['ENERGIA'])\n",
    "Variação_E = pd.DataFrame(Variação_E, index=Renewables.T.index, columns=['Delta_E'])\n",
    "Variação_E.T"
   ]
  },
  {
   "cell_type": "code",
   "execution_count": 207,
   "metadata": {},
   "outputs": [],
   "source": [
    "time = []\n",
    "for i in range(1992,2018):\n",
    "    time.append(i)"
   ]
  },
  {
   "cell_type": "code",
   "execution_count": 208,
   "metadata": {},
   "outputs": [
    {
     "data": {
      "text/html": [
       "<div>\n",
       "<style scoped>\n",
       "    .dataframe tbody tr th:only-of-type {\n",
       "        vertical-align: middle;\n",
       "    }\n",
       "\n",
       "    .dataframe tbody tr th {\n",
       "        vertical-align: top;\n",
       "    }\n",
       "\n",
       "    .dataframe thead th {\n",
       "        text-align: right;\n",
       "    }\n",
       "</style>\n",
       "<table border=\"1\" class=\"dataframe\">\n",
       "  <thead>\n",
       "    <tr style=\"text-align: right;\">\n",
       "      <th></th>\n",
       "      <th>ENERGIA</th>\n",
       "      <th>Delta_E</th>\n",
       "      <th>World</th>\n",
       "      <th>Delta_WD</th>\n",
       "    </tr>\n",
       "  </thead>\n",
       "  <tbody>\n",
       "    <tr>\n",
       "      <th>2010</th>\n",
       "      <td>1224049.6</td>\n",
       "      <td>8.590591</td>\n",
       "      <td>33472376.0</td>\n",
       "      <td>4.108238</td>\n",
       "    </tr>\n",
       "    <tr>\n",
       "      <th>2011</th>\n",
       "      <td>1329202.7</td>\n",
       "      <td>8.439999</td>\n",
       "      <td>34847501.0</td>\n",
       "      <td>1.788909</td>\n",
       "    </tr>\n",
       "    <tr>\n",
       "      <th>2012</th>\n",
       "      <td>1441387.4</td>\n",
       "      <td>8.445578</td>\n",
       "      <td>35470891.0</td>\n",
       "      <td>1.033805</td>\n",
       "    </tr>\n",
       "    <tr>\n",
       "      <th>2013</th>\n",
       "      <td>1563120.9</td>\n",
       "      <td>8.325274</td>\n",
       "      <td>35837591.0</td>\n",
       "      <td>0.839046</td>\n",
       "    </tr>\n",
       "    <tr>\n",
       "      <th>2014</th>\n",
       "      <td>1693255.0</td>\n",
       "      <td>9.148179</td>\n",
       "      <td>36138285.0</td>\n",
       "      <td>-0.194759</td>\n",
       "    </tr>\n",
       "  </tbody>\n",
       "</table>\n",
       "</div>"
      ],
      "text/plain": [
       "        ENERGIA   Delta_E       World  Delta_WD\n",
       "2010  1224049.6  8.590591  33472376.0  4.108238\n",
       "2011  1329202.7  8.439999  34847501.0  1.788909\n",
       "2012  1441387.4  8.445578  35470891.0  1.033805\n",
       "2013  1563120.9  8.325274  35837591.0  0.839046\n",
       "2014  1693255.0  9.148179  36138285.0 -0.194759"
      ]
     },
     "execution_count": 208,
     "metadata": {},
     "output_type": "execute_result"
    }
   ],
   "source": [
    "Reference = pd.DataFrame(index=time)\n",
    "Reference = Reference.join(Renewables.T, how='inner')\n",
    "Reference = Reference.join(Variação_E, how='inner')\n",
    "Reference = Reference.join(WD_Reference.T, how='inner')\n",
    "Reference = Reference.join(Variação_WD, how='inner')\n",
    "Reference"
   ]
  },
  {
   "cell_type": "code",
   "execution_count": 209,
   "metadata": {},
   "outputs": [
    {
     "data": {
      "text/plain": [
       "<matplotlib.collections.PathCollection at 0x21d7e6792b0>"
      ]
     },
     "execution_count": 209,
     "metadata": {},
     "output_type": "execute_result"
    },
    {
     "data": {
      "image/png": "[encoded data removed]",
      "text/plain": [
       "<Figure size 432x288 with 1 Axes>"
      ]
     },
     "metadata": {
      "needs_background": "light"
     },
     "output_type": "display_data"
    }
   ],
   "source": [
    "plt.scatter(Reference.index,Reference['Delta_WD'])\n",
    "plt.scatter(Reference.index,Reference['Delta_E'])"
   ]
  },
  {
   "cell_type": "code",
   "execution_count": 210,
   "metadata": {},
   "outputs": [
    {
     "name": "stdout",
     "output_type": "stream",
     "text": [
      "Coeficiente linear: 54.67680442596633\n",
      "Coeficiente angular: -1.5122822864639187e-06\n"
     ]
    },
    {
     "data": {
      "image/png": "[encoded data removed]",
      "text/plain": [
       "<Figure size 432x288 with 1 Axes>"
      ]
     },
     "metadata": {
      "needs_background": "light"
     },
     "output_type": "display_data"
    }
   ],
   "source": [
    "reta(Reference['World'],Reference['Delta_WD'],'b')"
   ]
  },
  {
   "cell_type": "code",
   "execution_count": 211,
   "metadata": {},
   "outputs": [
    {
     "name": "stdout",
     "output_type": "stream",
     "text": [
      "Coeficiente linear: 7.2726946240938855\n",
      "Coeficiente angular: 9.083071268241237e-07\n"
     ]
    },
    {
     "data": {
      "image/png": "[encoded data removed]",
      "text/plain": [
       "<Figure size 432x288 with 1 Axes>"
      ]
     },
     "metadata": {
      "needs_background": "light"
     },
     "output_type": "display_data"
    }
   ],
   "source": [
    "reta(Reference['ENERGIA'],Reference['Delta_E'],'c')"
   ]
  },
  {
   "cell_type": "code",
   "execution_count": 212,
   "metadata": {},
   "outputs": [
    {
     "name": "stdout",
     "output_type": "stream",
     "text": [
      "Coeficiente linear: 8.69840087898828\n",
      "Coeficiente angular: -0.0715993339468536\n"
     ]
    },
    {
     "data": {
      "image/png": "[encoded data removed]",
      "text/plain": [
       "<Figure size 432x288 with 1 Axes>"
      ]
     },
     "metadata": {
      "needs_background": "light"
     },
     "output_type": "display_data"
    }
   ],
   "source": [
    "plt.scatter(Reference['Delta_WD'],Reference['Delta_E'])\n",
    "reta(Reference['Delta_WD'],Reference['Delta_E'],'c')"
   ]
  },
  {
   "cell_type": "markdown",
   "metadata": {},
   "source": [
    "**Iterações**"
   ]
  },
  {
   "cell_type": "markdown",
   "metadata": {},
   "source": [
    "Média Global, Média IEA, Média ñ IEA (PLOT)"
   ]
  },
  {
   "cell_type": "code",
   "execution_count": 182,
   "metadata": {},
   "outputs": [
    {
     "data": {
      "image/png": "[encoded data removed]",
      "text/plain": [
       "<Figure size 720x360 with 1 Axes>"
      ]
     },
     "metadata": {
      "needs_background": "light"
     },
     "output_type": "display_data"
    }
   ],
   "source": [
    "plt.figure(figsize=(10,5))\n",
    "plt.autoscale(enable=True, axis='both', tight=True)\n",
    "\n",
    "plt.title(\"EMISSÕES DE CO2 POR PAÍS EM RELAÇÃO A MÉDIA DESSES PAÍSES\", fontsize=15, loc='center', pad=12);\n",
    "plt.xlabel(\"TEMPO [anos]\", fontsize=10);\n",
    "plt.ylabel(\"EIMISSÕES DE CARBONO [Kt]\", fontsize=10);\n",
    "\n",
    "plt.plot(Tempo, Média_Emissões , \"b--x\")\n",
    "plt.plot(Tempo, Média_ñ_IEA , \"r-o\")\n",
    "plt.plot(Tempo, Média_IEA , \"g-o\")\n",
    "\n",
    "plt.xlim(1991.75, 2014.25)\n",
    "plt.minorticks_on()\n",
    "plt.grid(True)"
   ]
  },
  {
   "cell_type": "markdown",
   "metadata": {},
   "source": [
    "Média Global (PLOT) & SCATTER"
   ]
  },
  {
   "cell_type": "code",
   "execution_count": 183,
   "metadata": {},
   "outputs": [
    {
     "data": {
      "image/png": "[encoded data removed]",
      "text/plain": [
       "<Figure size 720x360 with 1 Axes>"
      ]
     },
     "metadata": {
      "needs_background": "light"
     },
     "output_type": "display_data"
    }
   ],
   "source": [
    "plt.figure(figsize=(10,5))\n",
    "plt.autoscale(enable=True, axis='both', tight=True)\n",
    "\n",
    "plt.title(\"EMISSÕES DE CO2 POR PAÍS EM RELAÇÃO A MÉDIA DESSES PAÍSES\", fontsize=15, loc='center', pad=12);\n",
    "plt.xlabel(\"TEMPO [anos]\", fontsize=10);\n",
    "plt.ylabel(\"EIMISSÕES DE CARBONO [Kt]\", fontsize=10);\n",
    "\n",
    "plt.plot(Tempo, Média_Emissões , \"b--x\")\n",
    "\n",
    "Emissões_IEAT = Emissões_IEA.T\n",
    "for pais in Emissões_IEAT.columns:\n",
    "    plt.scatter(x=Emissões_IEAT.index, y=Emissões_IEAT[pais]);\n",
    "\n",
    "plt.xlim(1991.75, 2014.25)\n",
    "plt.minorticks_on()\n",
    "plt.grid(True)"
   ]
  },
  {
   "cell_type": "code",
   "execution_count": 184,
   "metadata": {},
   "outputs": [
    {
     "data": {
      "image/png": "[encoded data removed]",
      "text/plain": [
       "<Figure size 720x360 with 1 Axes>"
      ]
     },
     "metadata": {
      "needs_background": "light"
     },
     "output_type": "display_data"
    }
   ],
   "source": [
    "plt.figure(figsize=(10,5))\n",
    "plt.autoscale(enable=True, axis='both', tight=True)\n",
    "\n",
    "plt.title(\"EMISSÕES DE CO2 POR PAÍS EM RELAÇÃO A MÉDIA DESSES PAÍSES\", fontsize=15, loc='center', pad=12);\n",
    "plt.xlabel(\"TEMPO [anos]\", fontsize=10);\n",
    "plt.ylabel(\"EIMISSÕES DE CARBONO [Kt]\", fontsize=10);\n",
    "\n",
    "plt.plot(Tempo, Média_Emissões , \"b--x\")\n",
    "\n",
    "Emissões_ñ_IEAT = Emissões_ñ_IEA.T\n",
    "for pais in Emissões_ñ_IEAT.columns:\n",
    "    plt.scatter(x=Emissões_ñ_IEAT.index, y=Emissões_ñ_IEAT[pais]);\n",
    "\n",
    "plt.xlim(1991.75, 2014.25)\n",
    "plt.minorticks_on()\n",
    "plt.grid(True)"
   ]
  },
  {
   "cell_type": "markdown",
   "metadata": {},
   "source": [
    "## ORGANIZAÇÕES MUNDIAIS SOBRE MEIO AMBIENTE"
   ]
  },
  {
   "cell_type": "markdown",
   "metadata": {},
   "source": [
    "NRDC - 1970\n",
    "SIERRA CLUB - 1892\n",
    "WCS - 1895\n",
    "OCEANA - 1999\n",
    "AUDUBON - 1896\n",
    "JANE GOODALL - 1977\n",
    "RSPB - 1889\n",
    "NATURE CONSERVANCY - 1915\n",
    "WWF - 1960"
   ]
  },
  {
   "cell_type": "markdown",
   "metadata": {},
   "source": [
    "## IRENA"
   ]
  },
  {
   "cell_type": "markdown",
   "metadata": {},
   "source": [
    "**1981**\n",
    "> "
   ]
  },
  {
   "cell_type": "markdown",
   "metadata": {},
   "source": [
    "## Conclusão"
   ]
  },
  {
   "cell_type": "markdown",
   "metadata": {},
   "source": [
    "Responda à pergunta, argumento da melhor forma possível com base nos dados"
   ]
  },
  {
   "cell_type": "markdown",
   "metadata": {},
   "source": [
    " "
   ]
  }
 ],
 "metadata": {
  "kernelspec": {
   "display_name": "Python 3",
   "language": "python",
   "name": "python3"
  },
  "language_info": {
   "codemirror_mode": {
    "name": "ipython",
    "version": 3
   },
   "file_extension": ".py",
   "mimetype": "text/x-python",
   "name": "python",
   "nbconvert_exporter": "python",
   "pygments_lexer": "ipython3",
   "version": "3.7.3"
  }
 },
 "nbformat": 4,
 "nbformat_minor": 2
}
